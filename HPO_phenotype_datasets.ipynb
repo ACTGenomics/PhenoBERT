{
 "cells": [
  {
   "cell_type": "code",
   "execution_count": 1,
   "metadata": {},
   "outputs": [
    {
     "ename": "TypeError",
     "evalue": "read_csv() got an unexpected keyword argument 'on_bad_lines'",
     "output_type": "error",
     "traceback": [
      "\u001b[0;31m---------------------------------------------------------------------------\u001b[0m",
      "\u001b[0;31mTypeError\u001b[0m                                 Traceback (most recent call last)",
      "\u001b[0;32m<ipython-input-1-a49724d3d8ef>\u001b[0m in \u001b[0;36m<module>\u001b[0;34m\u001b[0m\n\u001b[1;32m      5\u001b[0m     \u001b[0msep\u001b[0m\u001b[0;34m=\u001b[0m\u001b[0;34m'\\t'\u001b[0m\u001b[0;34m,\u001b[0m\u001b[0;34m\u001b[0m\u001b[0;34m\u001b[0m\u001b[0m\n\u001b[1;32m      6\u001b[0m     \u001b[0mengine\u001b[0m\u001b[0;34m=\u001b[0m\u001b[0;34m'python'\u001b[0m\u001b[0;34m,\u001b[0m   \u001b[0;31m# 使用 Python 解析器較寬鬆\u001b[0m\u001b[0;34m\u001b[0m\u001b[0;34m\u001b[0m\u001b[0m\n\u001b[0;32m----> 7\u001b[0;31m     \u001b[0mon_bad_lines\u001b[0m\u001b[0;34m=\u001b[0m\u001b[0;34m'skip'\u001b[0m  \u001b[0;31m# 忽略有問題的行（pandas >= 1.3）\u001b[0m\u001b[0;34m\u001b[0m\u001b[0;34m\u001b[0m\u001b[0m\n\u001b[0m\u001b[1;32m      8\u001b[0m )\n",
      "\u001b[0;31mTypeError\u001b[0m: read_csv() got an unexpected keyword argument 'on_bad_lines'"
     ]
    }
   ],
   "source": [
    "import pandas as pd\n",
    "\n",
    "biolarkgsc = pd.read_csv(\n",
    "    './reference/HPO concept recognition/BiolarkGSC+/biolarkgsc.csv',\n",
    "    sep='\\t',\n",
    "    engine='python',   # 使用 Python 解析器較寬鬆\n",
    "    on_bad_lines='skip'  # 忽略有問題的行（pandas >= 1.3）\n",
    ")"
   ]
  },
  {
   "cell_type": "code",
   "execution_count": 19,
   "metadata": {},
   "outputs": [],
   "source": [
    "biolarkgsc['dataset'] = 'biolarkgsc'"
   ]
  },
  {
   "cell_type": "code",
   "execution_count": 10,
   "metadata": {},
   "outputs": [],
   "source": [
    "cpod = pd.read_csv(\n",
    "    './reference/HPO concept recognition/COPD-HPO/copd.csv',\n",
    "    sep='\\t',\n",
    "    engine='python',   # 使用 Python 解析器較寬鬆\n",
    "    on_bad_lines='skip'  # 忽略有問題的行（pandas >= 1.3）\n",
    ")"
   ]
  },
  {
   "cell_type": "code",
   "execution_count": 20,
   "metadata": {},
   "outputs": [],
   "source": [
    "cpod['dataset'] = 'copd'"
   ]
  },
  {
   "cell_type": "code",
   "execution_count": 12,
   "metadata": {},
   "outputs": [],
   "source": [
    "phenochf = pd.read_csv(\n",
    "    './reference/HPO concept recognition/PhenoCHF/phenochf.csv',\n",
    "    sep='\\t',\n",
    "    engine='python',   # 使用 Python 解析器較寬鬆\n",
    "    on_bad_lines='skip'  # 忽略有問題的行（pandas >= 1.3）\n",
    ")"
   ]
  },
  {
   "cell_type": "code",
   "execution_count": 21,
   "metadata": {},
   "outputs": [],
   "source": [
    "phenochf['dataset'] = 'phenochf'"
   ]
  },
  {
   "cell_type": "code",
   "execution_count": 40,
   "metadata": {},
   "outputs": [],
   "source": [
    "total_dataset = pd.concat([biolarkgsc, cpod, phenochf], ignore_index=True)"
   ]
  },
  {
   "cell_type": "code",
   "execution_count": 41,
   "metadata": {},
   "outputs": [],
   "source": [
    "def hpo_reformat(x):\n",
    "    if x == '-':\n",
    "        return x\n",
    "    hpo_list = x.split(';')\n",
    "    return ','.join(hpo.replace('_',':') for hpo in hpo_list)\n",
    "        "
   ]
  },
  {
   "cell_type": "code",
   "execution_count": 42,
   "metadata": {},
   "outputs": [],
   "source": [
    "total_dataset['labels'] = total_dataset['labels'].fillna('-')"
   ]
  },
  {
   "cell_type": "code",
   "execution_count": 43,
   "metadata": {},
   "outputs": [],
   "source": [
    "total_dataset['hpo_ids'] = total_dataset['labels'].apply(hpo_reformat)"
   ]
  },
  {
   "cell_type": "code",
   "execution_count": 44,
   "metadata": {},
   "outputs": [],
   "source": [
    "total_dataset = total_dataset.rename(columns={'text':'clinical_summary'})\n",
    "total_dataset = total_dataset[['id','clinical_summary','labels','hpo_ids','dataset']]"
   ]
  },
  {
   "cell_type": "code",
   "execution_count": null,
   "metadata": {},
   "outputs": [],
   "source": []
  },
  {
   "cell_type": "code",
   "execution_count": 45,
   "metadata": {},
   "outputs": [],
   "source": [
    "total_dataset.to_excel('./reference/biolarkgsc_copd_phenochf.xlsx',index=False)"
   ]
  },
  {
   "cell_type": "code",
   "execution_count": null,
   "metadata": {},
   "outputs": [],
   "source": []
  }
 ],
 "metadata": {
  "kernelspec": {
   "display_name": "pheno_bert",
   "language": "python",
   "name": "python3"
  },
  "language_info": {
   "codemirror_mode": {
    "name": "ipython",
    "version": 3
   },
   "file_extension": ".py",
   "mimetype": "text/x-python",
   "name": "python",
   "nbconvert_exporter": "python",
   "pygments_lexer": "ipython3",
   "version": "3.6.13"
  }
 },
 "nbformat": 4,
 "nbformat_minor": 2
}
