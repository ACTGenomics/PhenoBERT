{
 "cells": [
  {
   "cell_type": "code",
   "execution_count": 1,
   "id": "c692c7d4-b1f6-40aa-84a0-362daeeaa5b7",
   "metadata": {},
   "outputs": [
    {
     "name": "stderr",
     "output_type": "stream",
     "text": [
      "/mnt/home/jiansiaoyu/miniconda3/envs/pheno_bert37/lib/python3.7/site-packages/tqdm/auto.py:21: TqdmWarning: IProgress not found. Please update jupyter and ipywidgets. See https://ipywidgets.readthedocs.io/en/stable/user_install.html\n",
      "  from .autonotebook import tqdm as notebook_tqdm\n"
     ]
    }
   ],
   "source": [
    "import sys\n",
    "#sys.path.append(\"/mnt/AI/wgs-database/phenotype_extractors/PhenoBERT/phenobert/utils\")\n",
    "from api import *"
   ]
  },
  {
   "cell_type": "code",
   "execution_count": 2,
   "id": "298a5780-a30d-4332-b7dd-03b84403cd93",
   "metadata": {},
   "outputs": [],
   "source": [
    "# 方案1: 批次處理 + 進度條\n",
    "import pandas as pd\n",
    "#from tqdm.notebook import tqdm\n",
    "from tqdm import tqdm\n",
    "from io import StringIO\n",
    "import numpy as np\n",
    "from concurrent.futures import ThreadPoolExecutor\n",
    "import time\n",
    "\n",
    "\n",
    "# 啟用 tqdm 對 pandas 的支持\n",
    "#tqdm.pandas()\n",
    "\n",
    "def phenobert_predict_optimized(description):\n",
    "    \"\"\"優化後的單筆預測函數\"\"\"\n",
    "    try:\n",
    "        data_string = annotate_text(description)\n",
    "        if not data_string.strip():  # 如果沒有結果\n",
    "            return \"\"\n",
    "        \n",
    "        df = pd.read_csv(StringIO(data_string), sep='\\t', header=None, \n",
    "                        names=['start', 'end', 'description', 'hpo_id', 'score', 'note'])\n",
    "        df = df.sort_values(by='description')\n",
    "        return ','.join(list(df.hpo_id))\n",
    "    except Exception as e:\n",
    "        print(f\"Error processing description: {e}\")\n",
    "        return \"\"\n",
    "\n",
    "def batch_phenobert_predict(descriptions, batch_size=10, max_workers=10):\n",
    "    \"\"\"\n",
    "    批次處理版本 - 降低模型重新載入的開銷\n",
    "    \"\"\"\n",
    "    results = []\n",
    "    \n",
    "    # 分批處理\n",
    "    for i in tqdm(range(0, len(descriptions), batch_size), desc=\"Processing batches\"):\n",
    "        batch = descriptions[i:i+batch_size]\n",
    "        batch_results = []\n",
    "        \n",
    "        # 對每個批次進行處理\n",
    "        for desc in tqdm(batch, desc=f\"Batch {i//batch_size + 1}\", leave=False):\n",
    "            result = phenobert_predict_optimized(desc)\n",
    "            batch_results.append(result)\n",
    "        \n",
    "        results.extend(batch_results)\n",
    "        \n",
    "        # 每個批次後短暫休息，避免過熱\n",
    "        time.sleep(0.1)\n",
    "    \n",
    "    return results\n",
    "\n",
    "def parallel_phenobert_predict(descriptions, max_workers=3):\n",
    "    \"\"\"\n",
    "    並行處理版本 - 注意：只有在確認模型線程安全時才使用\n",
    "    \"\"\"\n",
    "    results = [None] * len(descriptions)\n",
    "    \n",
    "    def process_single(args):\n",
    "        idx, desc = args\n",
    "        try:\n",
    "            result = phenobert_predict_optimized(desc)\n",
    "            return idx, result\n",
    "        except Exception as e:\n",
    "            print(f\"Error processing index {idx}: {e}\")\n",
    "            return idx, \"\"\n",
    "    \n",
    "    with ThreadPoolExecutor(max_workers=max_workers) as executor:\n",
    "        futures = [executor.submit(process_single, (i, desc)) \n",
    "                  for i, desc in enumerate(descriptions)]\n",
    "        \n",
    "        for future in tqdm(futures, desc=\"Processing in parallel\"):\n",
    "            idx, result = future.result()\n",
    "            results[idx] = result\n",
    "    \n",
    "    return results"
   ]
  },
  {
   "cell_type": "code",
   "execution_count": 3,
   "id": "30bcd5d7-8aea-48da-91d5-df13bb419d29",
   "metadata": {},
   "outputs": [],
   "source": [
    "df_hpo_mapping = pd.read_csv('../../reference/2025-08-01_orphanet_WGS_database(HPO_ID_Mapping_v20250506).csv', sep=',')"
   ]
  },
  {
   "cell_type": "code",
   "execution_count": 4,
   "id": "7adb4c37-c6f3-4919-8f45-11d0e6e6bb17",
   "metadata": {},
   "outputs": [],
   "source": [
    "hpo_mapping_dict = {}\n",
    "for idx in df_hpo_mapping.index:\n",
    "    hpo_mapping_dict[df_hpo_mapping.input_hpo_id[idx]] = df_hpo_mapping.mapped_main_id[idx]"
   ]
  },
  {
   "cell_type": "code",
   "execution_count": 5,
   "id": "21b03421-dab5-4e41-a0a8-60a6c56a1d4b",
   "metadata": {},
   "outputs": [],
   "source": [
    "GSC_database = pd.read_excel('../../reference/GSC_database.xlsx',engine='openpyxl')"
   ]
  },
  {
   "cell_type": "code",
   "execution_count": 6,
   "id": "c4e34991-67fd-4eec-ab6c-f292bb68bb11",
   "metadata": {},
   "outputs": [
    {
     "data": {
      "text/plain": [
       "228"
      ]
     },
     "execution_count": 6,
     "metadata": {},
     "output_type": "execute_result"
    }
   ],
   "source": [
    "GSC_database.shape[0]"
   ]
  },
  {
   "cell_type": "code",
   "execution_count": 7,
   "id": "ae6f81d1-4272-4ddf-8a7a-a1afcc474587",
   "metadata": {},
   "outputs": [],
   "source": [
    "def hpo_map(hpo_id_list_str):\n",
    "    if hpo_id_list_str =='-':\n",
    "        return '-'\n",
    "    hpo_id_list = hpo_id_list_str.split(',')\n",
    "    normalized_hpo_id_list = []\n",
    "    for hpo_id in hpo_id_list:\n",
    "        if hpo_id not in normalized_hpo_id_list:\n",
    "            normalized_hpo_id_list.append(hpo_mapping_dict.get(hpo_id,'-'))\n",
    "    return ','.join(normalized_hpo_id_list)\n",
    "\n",
    "def accuracy_calculator(true_hpo_str, pred_hpo_str):\n",
    "    true_hpo_list = true_hpo_str.split(',')\n",
    "    pred_hpo_list = pred_hpo_str.split(',')\n",
    "    mapped_hpo_list = [hpo for hpo in pred_hpo_list if hpo in true_hpo_list]\n",
    "    return len(mapped_hpo_list)/len(true_hpo_list)"
   ]
  },
  {
   "cell_type": "code",
   "execution_count": 8,
   "id": "07d92135-6ea3-4173-976b-1f5ea80d31ce",
   "metadata": {},
   "outputs": [],
   "source": [
    "GSC_database['normalized_hpo_ids'] = GSC_database['hpo_ids'].apply(hpo_map)"
   ]
  },
  {
   "cell_type": "code",
   "execution_count": 9,
   "id": "49582c1c-f60e-4aa2-85c4-0314e14c37f2",
   "metadata": {},
   "outputs": [
    {
     "name": "stderr",
     "output_type": "stream",
     "text": [
      "Processing in parallel:   0%|▋                                                                                                                                               | 1/228 [00:02<10:58,  2.90s/it]"
     ]
    },
    {
     "name": "stdout",
     "output_type": "stream",
     "text": [
      "Error processing description: 'WordNetCorpusReader' object has no attribute 'subdir'\n"
     ]
    },
    {
     "name": "stderr",
     "output_type": "stream",
     "text": [
      "Processing in parallel:   0%|▋                                                                                                                                               | 1/228 [00:04<10:58,  2.90s/it]"
     ]
    },
    {
     "name": "stdout",
     "output_type": "stream",
     "text": [
      "loading vocabulary file /mnt/AI/wgs-database/phenotype_extractors/PhenoBERT/phenobert/embeddings/biobert_v1.1_pubmed/vocab.txt\n"
     ]
    },
    {
     "name": "stderr",
     "output_type": "stream",
     "text": [
      "Processing in parallel:   1%|█▎                                                                                                                                              | 2/228 [00:07<13:53,  3.69s/it]"
     ]
    },
    {
     "name": "stdout",
     "output_type": "stream",
     "text": [
      "Load pre-trained BERT parameters from file /mnt/AI/wgs-database/phenotype_extractors/PhenoBERT/phenobert/embeddings/biobert_v1.1_pubmed/pytorch_model.bin.\n"
     ]
    },
    {
     "name": "stderr",
     "output_type": "stream",
     "text": [
      "Processing in parallel: 100%|██████████████████████████████████████████████████████████████████████████████████████████████████████████████████████████████████████████████| 228/228 [03:24<00:00,  1.12it/s]\n"
     ]
    }
   ],
   "source": [
    "GSC_database['phenobert_hpo_ids'] = parallel_phenobert_predict(list(GSC_database['clinical_summary']))"
   ]
  },
  {
   "cell_type": "code",
   "execution_count": 10,
   "id": "eb026eda-0f51-4178-9de7-e7116da28be3",
   "metadata": {},
   "outputs": [],
   "source": [
    "GSC_database['phenobert_hpo_ids'] = GSC_database['phenobert_hpo_ids'].fillna('-')"
   ]
  },
  {
   "cell_type": "code",
   "execution_count": 11,
   "id": "113d1a6a-872b-4aa6-91a6-70ff2b0eaff5",
   "metadata": {},
   "outputs": [],
   "source": [
    "GSC_database['normalized_phenobert_hpo_ids'] = GSC_database['phenobert_hpo_ids'].apply(hpo_map)"
   ]
  },
  {
   "cell_type": "code",
   "execution_count": 12,
   "id": "26cf1bd9-ee93-4eb4-969b-35271826ba37",
   "metadata": {},
   "outputs": [],
   "source": [
    "GSC_database['phenobert_accuracy'] = GSC_database.apply(lambda x:accuracy_calculator(x.normalized_hpo_ids, x.normalized_phenobert_hpo_ids), axis=1)"
   ]
  },
  {
   "cell_type": "code",
   "execution_count": 13,
   "id": "275a9de3-f37b-4020-90f0-c97201bd97eb",
   "metadata": {},
   "outputs": [
    {
     "data": {
      "text/plain": [
       "0.5351608117047256"
      ]
     },
     "execution_count": 13,
     "metadata": {},
     "output_type": "execute_result"
    }
   ],
   "source": [
    "GSC_database['phenobert_accuracy'].mean()"
   ]
  },
  {
   "cell_type": "code",
   "execution_count": 14,
   "id": "7a109c2b-8cdb-46ed-a58d-07d8a6ebfd63",
   "metadata": {},
   "outputs": [
    {
     "data": {
      "text/html": [
       "<div>\n",
       "<style scoped>\n",
       "    .dataframe tbody tr th:only-of-type {\n",
       "        vertical-align: middle;\n",
       "    }\n",
       "\n",
       "    .dataframe tbody tr th {\n",
       "        vertical-align: top;\n",
       "    }\n",
       "\n",
       "    .dataframe thead th {\n",
       "        text-align: right;\n",
       "    }\n",
       "</style>\n",
       "<table border=\"1\" class=\"dataframe\">\n",
       "  <thead>\n",
       "    <tr style=\"text-align: right;\">\n",
       "      <th></th>\n",
       "      <th>file_name</th>\n",
       "      <th>clinical_summary</th>\n",
       "      <th>hpo_terms</th>\n",
       "      <th>hpo_ids</th>\n",
       "      <th>normalized_hpo_ids</th>\n",
       "      <th>phenobert_hpo_ids</th>\n",
       "      <th>normalized_phenobert_hpo_ids</th>\n",
       "      <th>phenobert_accuracy</th>\n",
       "    </tr>\n",
       "  </thead>\n",
       "  <tbody>\n",
       "    <tr>\n",
       "      <th>0</th>\n",
       "      <td>1003450</td>\n",
       "      <td>A syndrome of brachydactyly (absence of some m...</td>\n",
       "      <td>brachydactyly (HP:0001156);absence of some mid...</td>\n",
       "      <td>HP:0001156,HP:0009881,HP:0001798,HP:0001792,HP...</td>\n",
       "      <td>HP:0001156,HP:0009881,HP:0001798,HP:0001792,HP...</td>\n",
       "      <td></td>\n",
       "      <td>-</td>\n",
       "      <td>0.000000</td>\n",
       "    </tr>\n",
       "    <tr>\n",
       "      <th>1</th>\n",
       "      <td>10051003</td>\n",
       "      <td>Townes-Brocks syndrome (TBS) is an autosomal d...</td>\n",
       "      <td>autosomal dominant disorder (HP:0000006);varia...</td>\n",
       "      <td>HP:0000006,HP:0003828,HP:0000356,HP:0000365,HP...</td>\n",
       "      <td>HP:0000006,HP:0003828,HP:0000356,HP:0000365,HP...</td>\n",
       "      <td>HP:0000356,HP:0000365,HP:0002023,HP:0001249,HP...</td>\n",
       "      <td>HP:0000356,HP:0000365,HP:0002023,HP:0001249,HP...</td>\n",
       "      <td>0.666667</td>\n",
       "    </tr>\n",
       "    <tr>\n",
       "      <th>2</th>\n",
       "      <td>10066029</td>\n",
       "      <td>Nevoid basal cell carcinoma syndrome (NBCCS) i...</td>\n",
       "      <td>basal cell carcinoma (HP:0002671);autosomal do...</td>\n",
       "      <td>HP:0002671,HP:0000006,HP:0003828,HP:0002671,HP...</td>\n",
       "      <td>HP:0002671,HP:0000006,HP:0003828,HP:0010603,HP...</td>\n",
       "      <td>HP:0002671,HP:0005462,HP:0002514,HP:0002671,HP...</td>\n",
       "      <td>HP:0002671,HP:0005462,HP:0002514,HP:0010603,HP...</td>\n",
       "      <td>0.666667</td>\n",
       "    </tr>\n",
       "    <tr>\n",
       "      <th>3</th>\n",
       "      <td>10196695</td>\n",
       "      <td>Angelman syndrome (AS) is a neurodevelopmental...</td>\n",
       "      <td>neurodevelopmental disorder (HP:0000707);conti...</td>\n",
       "      <td>HP:0000707,HP:0001466</td>\n",
       "      <td>HP:0000707,HP:0001466</td>\n",
       "      <td>HP:0012759</td>\n",
       "      <td>HP:0012759</td>\n",
       "      <td>0.000000</td>\n",
       "    </tr>\n",
       "    <tr>\n",
       "      <th>4</th>\n",
       "      <td>10417280</td>\n",
       "      <td>Prader-Willi syndrome (PWS) and Angelman syndr...</td>\n",
       "      <td>neurobehavioral disorders (HP:0000708);de novo...</td>\n",
       "      <td>HP:0000708,HP:0003745</td>\n",
       "      <td>HP:0000708,HP:0003745</td>\n",
       "      <td>HP:0000708</td>\n",
       "      <td>HP:0000708</td>\n",
       "      <td>0.500000</td>\n",
       "    </tr>\n",
       "  </tbody>\n",
       "</table>\n",
       "</div>"
      ],
      "text/plain": [
       "   file_name                                   clinical_summary  \\\n",
       "0    1003450  A syndrome of brachydactyly (absence of some m...   \n",
       "1   10051003  Townes-Brocks syndrome (TBS) is an autosomal d...   \n",
       "2   10066029  Nevoid basal cell carcinoma syndrome (NBCCS) i...   \n",
       "3   10196695  Angelman syndrome (AS) is a neurodevelopmental...   \n",
       "4   10417280  Prader-Willi syndrome (PWS) and Angelman syndr...   \n",
       "\n",
       "                                           hpo_terms  \\\n",
       "0  brachydactyly (HP:0001156);absence of some mid...   \n",
       "1  autosomal dominant disorder (HP:0000006);varia...   \n",
       "2  basal cell carcinoma (HP:0002671);autosomal do...   \n",
       "3  neurodevelopmental disorder (HP:0000707);conti...   \n",
       "4  neurobehavioral disorders (HP:0000708);de novo...   \n",
       "\n",
       "                                             hpo_ids  \\\n",
       "0  HP:0001156,HP:0009881,HP:0001798,HP:0001792,HP...   \n",
       "1  HP:0000006,HP:0003828,HP:0000356,HP:0000365,HP...   \n",
       "2  HP:0002671,HP:0000006,HP:0003828,HP:0002671,HP...   \n",
       "3                              HP:0000707,HP:0001466   \n",
       "4                              HP:0000708,HP:0003745   \n",
       "\n",
       "                                  normalized_hpo_ids  \\\n",
       "0  HP:0001156,HP:0009881,HP:0001798,HP:0001792,HP...   \n",
       "1  HP:0000006,HP:0003828,HP:0000356,HP:0000365,HP...   \n",
       "2  HP:0002671,HP:0000006,HP:0003828,HP:0010603,HP...   \n",
       "3                              HP:0000707,HP:0001466   \n",
       "4                              HP:0000708,HP:0003745   \n",
       "\n",
       "                                   phenobert_hpo_ids  \\\n",
       "0                                                      \n",
       "1  HP:0000356,HP:0000365,HP:0002023,HP:0001249,HP...   \n",
       "2  HP:0002671,HP:0005462,HP:0002514,HP:0002671,HP...   \n",
       "3                                         HP:0012759   \n",
       "4                                         HP:0000708   \n",
       "\n",
       "                        normalized_phenobert_hpo_ids  phenobert_accuracy  \n",
       "0                                                  -            0.000000  \n",
       "1  HP:0000356,HP:0000365,HP:0002023,HP:0001249,HP...            0.666667  \n",
       "2  HP:0002671,HP:0005462,HP:0002514,HP:0010603,HP...            0.666667  \n",
       "3                                         HP:0012759            0.000000  \n",
       "4                                         HP:0000708            0.500000  "
      ]
     },
     "execution_count": 14,
     "metadata": {},
     "output_type": "execute_result"
    }
   ],
   "source": [
    "GSC_database.head()"
   ]
  },
  {
   "cell_type": "code",
   "execution_count": 18,
   "id": "32b19789-b62c-4f0e-bb98-7625e0d44768",
   "metadata": {},
   "outputs": [],
   "source": [
    "GSC_database_phenotagger = pd.read_excel('../../reference/GSC_database_phenotagger.xlsx',engine='openpyxl')"
   ]
  },
  {
   "cell_type": "code",
   "execution_count": 25,
   "id": "d517d6c6-7cc9-41a1-8b8a-b7f02908a338",
   "metadata": {},
   "outputs": [],
   "source": [
    "GSC_database_phenotagger['file_name'] = GSC_database_phenotagger['PMID']\n",
    "GSC_database_phenotagger['pheno_tagger_hpo_ids'] = GSC_database_phenotagger['hpo_ids']\n",
    "GSC_database_merged = GSC_database.merge(GSC_database_phenotagger[['file_name','pheno_tagger_hpo_ids']], on=['file_name'], how='left')"
   ]
  },
  {
   "cell_type": "code",
   "execution_count": 26,
   "id": "4461cead-e809-43f8-aaad-a68ea6df5340",
   "metadata": {},
   "outputs": [],
   "source": [
    "GSC_database_merged['pheno_tagger_hpo_ids'] = GSC_database_merged['pheno_tagger_hpo_ids'].fillna('-')\n",
    "GSC_database_merged['normalized_pheno_tagger_hpo_ids'] = GSC_database_merged['pheno_tagger_hpo_ids'].apply(hpo_map)"
   ]
  },
  {
   "cell_type": "code",
   "execution_count": 27,
   "id": "f1939dd0-4168-413b-b593-6304d55d4810",
   "metadata": {},
   "outputs": [],
   "source": [
    "GSC_database_merged['pheno_tagger_accuracy'] = GSC_database_merged.apply(lambda x:accuracy_calculator(x.normalized_hpo_ids, x.normalized_pheno_tagger_hpo_ids), axis=1)"
   ]
  },
  {
   "cell_type": "code",
   "execution_count": 28,
   "id": "382dfc1f-ff14-4234-b9dd-6ee88fd8604a",
   "metadata": {},
   "outputs": [
    {
     "data": {
      "text/plain": [
       "0.5217332118554553"
      ]
     },
     "execution_count": 28,
     "metadata": {},
     "output_type": "execute_result"
    }
   ],
   "source": [
    "GSC_database_merged['pheno_tagger_accuracy'].mean()"
   ]
  },
  {
   "cell_type": "code",
   "execution_count": 36,
   "id": "19926d03-7b1b-4ad9-b833-fe98d70e9276",
   "metadata": {},
   "outputs": [
    {
     "name": "stdout",
     "output_type": "stream",
     "text": [
      "執行 plot_phenobert_accuracy_distribution(df_phenopacket) 來繪製分布圖\n"
     ]
    }
   ],
   "source": [
    "import matplotlib.pyplot as plt\n",
    "import numpy as np\n",
    "import pandas as pd\n",
    "import seaborn as sns\n",
    "\n",
    "# 設定中文字型（如果需要顯示中文）\n",
    "plt.rcParams['font.sans-serif'] = ['DejaVu Sans', 'SimHei', 'Arial']\n",
    "plt.rcParams['axes.unicode_minus'] = False\n",
    "\n",
    "def plot_phenobert_accuracy_distribution(df_phenopacket, column_name='phenobert_accuracy'):\n",
    "    \"\"\"\n",
    "    繪製 PhenoBERT Accuracy 分數分布圖\n",
    "    \n",
    "    Parameters:\n",
    "    df_phenopacket: DataFrame containing phenobert_accuracy column\n",
    "    \"\"\"\n",
    "    \n",
    "    # 建立分組區間 (0.0-0.1, 0.1-0.2, ..., 0.9-1.0)\n",
    "    bins = np.arange(0, 1.1, 0.1)  # [0, 0.1, 0.2, ..., 1.0]\n",
    "    \n",
    "    # 創建圖表\n",
    "    plt.figure(figsize=(10, 6))\n",
    "    \n",
    "    # 直方圖\n",
    "    n, bins_edges, patches = plt.hist(df_phenopacket[column_name], \n",
    "                                     bins=bins, \n",
    "                                     edgecolor='black', \n",
    "                                     alpha=0.7,\n",
    "                                     color='skyblue')\n",
    "    \n",
    "    plt.xlabel(f'{column_name} Score', fontsize=12)\n",
    "    plt.ylabel('Frequency', fontsize=12)\n",
    "    plt.title(f'{column_name} Distribution', fontsize=14, fontweight='bold')\n",
    "    plt.xticks(bins, [f'{i:.1f}' for i in bins])\n",
    "    plt.grid(True, alpha=0.3)\n",
    "    \n",
    "    # 在每個bar上顯示數量\n",
    "    for i, count in enumerate(n):\n",
    "        if count > 0:\n",
    "            plt.text(bins_edges[i] + 0.05, count + max(n)*0.01, \n",
    "                    f'{int(count)}', ha='center', va='bottom', fontsize=10)\n",
    "    \n",
    "    plt.tight_layout()\n",
    "    plt.show()\n",
    "    \n",
    "    # 顯示統計資訊\n",
    "    print(\"=== PhenoBERT Recall 統計資訊 ===\")\n",
    "    print(f\"總樣本數: {len(df_phenopacket[column_name])}\")\n",
    "    print(f\"平均值: {df_phenopacket[column_name].mean():.4f}\")\n",
    "    print(f\"中位數: {df_phenopacket[column_name].median():.4f}\")\n",
    "    print(f\"標準差: {df_phenopacket[column_name].std():.4f}\")\n",
    "    print(f\"最小值: {df_phenopacket[column_name].min():.4f}\")\n",
    "    print(f\"最大值: {df_phenopacket[column_name].max():.4f}\")\n",
    "    \n",
    "    # 顯示各區間的詳細統計\n",
    "    print(\"\\n=== 各分數區間統計 ===\")\n",
    "    bin_labels = [f'{bins[i]:.1f}-{bins[i+1]:.1f}' for i in range(len(bins)-1)]\n",
    "    counts, _ = np.histogram(df_phenopacket[column_name], bins=bins)\n",
    "    percentages = (counts / len(df_phenopacket[column_name])) * 100\n",
    "    \n",
    "    for label, count, pct in zip(bin_labels, counts, percentages):\n",
    "        print(f\"{label}: {count:4d} 樣本 ({pct:5.1f}%)\")\n",
    "\n",
    "def plot_simple_histogram(df_phenopacket):\n",
    "    \"\"\"\n",
    "    簡單版本的分布圖\n",
    "    \"\"\"\n",
    "    bins = np.arange(0, 1.1, 0.1)\n",
    "    \n",
    "    plt.figure(figsize=(10, 6))\n",
    "    plt.hist(df_phenopacket[column_name], \n",
    "             bins=bins, \n",
    "             edgecolor='black', \n",
    "             alpha=0.7,\n",
    "             color='steelblue')\n",
    "    \n",
    "    plt.xlabel(f'{column_name} Score', fontsize=12)\n",
    "    plt.ylabel('Frequency', fontsize=12)\n",
    "    plt.title(f'{column_name} Score Distribution', fontsize=14, fontweight='bold')\n",
    "    plt.xticks(bins, [f'{i:.1f}' for i in bins])\n",
    "    plt.grid(True, alpha=0.3)\n",
    "    plt.tight_layout()\n",
    "    plt.show()\n",
    "\n",
    "# 使用範例\n",
    "# plot_phenobert_accuracy_distribution(df_phenopacket)\n",
    "\n",
    "print(\"執行 plot_phenobert_accuracy_distribution(df_phenopacket) 來繪製分布圖\")"
   ]
  },
  {
   "cell_type": "code",
   "execution_count": 33,
   "id": "9bae1739-ec13-4cf3-aca3-8b24bc9c8a20",
   "metadata": {},
   "outputs": [],
   "source": [
    "phenopacket = pd.read_excel('../../reference/20250811_phenopacket_with_demographics_summary_phenobert_phenotagger_result.xlsx',engine='openpyxl')"
   ]
  },
  {
   "cell_type": "code",
   "execution_count": 39,
   "id": "1c9b154a-e7b3-4be6-b73a-ce2d20dc5067",
   "metadata": {},
   "outputs": [],
   "source": [
    "phenopacket['phenobert_recall'] = phenopacket['phenobert_accuracy']\n",
    "phenopacket['pheno_tagger_recall'] = phenopacket['pheno_tagger_accuracy']"
   ]
  },
  {
   "cell_type": "code",
   "execution_count": 32,
   "id": "49443322-7277-4283-ac63-bde1c7149508",
   "metadata": {},
   "outputs": [
    {
     "data": {
      "text/html": [
       "<div>\n",
       "<style scoped>\n",
       "    .dataframe tbody tr th:only-of-type {\n",
       "        vertical-align: middle;\n",
       "    }\n",
       "\n",
       "    .dataframe tbody tr th {\n",
       "        vertical-align: top;\n",
       "    }\n",
       "\n",
       "    .dataframe thead th {\n",
       "        text-align: right;\n",
       "    }\n",
       "</style>\n",
       "<table border=\"1\" class=\"dataframe\">\n",
       "  <thead>\n",
       "    <tr style=\"text-align: right;\">\n",
       "      <th></th>\n",
       "      <th>file_name</th>\n",
       "      <th>clinical_summary</th>\n",
       "      <th>hpo_terms</th>\n",
       "      <th>hpo_ids</th>\n",
       "      <th>normalized_hpo_ids</th>\n",
       "      <th>phenobert_hpo_ids</th>\n",
       "      <th>normalized_phenobert_hpo_ids</th>\n",
       "      <th>phenobert_accuracy</th>\n",
       "    </tr>\n",
       "  </thead>\n",
       "  <tbody>\n",
       "    <tr>\n",
       "      <th>0</th>\n",
       "      <td>1003450</td>\n",
       "      <td>A syndrome of brachydactyly (absence of some m...</td>\n",
       "      <td>brachydactyly (HP:0001156);absence of some mid...</td>\n",
       "      <td>HP:0001156,HP:0009881,HP:0001798,HP:0001792,HP...</td>\n",
       "      <td>HP:0001156,HP:0009881,HP:0001798,HP:0001792,HP...</td>\n",
       "      <td>HP:0006167,HP:0001798,HP:0001363,HP:0001385,HP...</td>\n",
       "      <td>HP:0006167,HP:0001798,HP:0001363,HP:0001385,HP...</td>\n",
       "      <td>0.6</td>\n",
       "    </tr>\n",
       "    <tr>\n",
       "      <th>1</th>\n",
       "      <td>10051003</td>\n",
       "      <td>Townes-Brocks syndrome (TBS) is an autosomal d...</td>\n",
       "      <td>autosomal dominant disorder (HP:0000006);varia...</td>\n",
       "      <td>HP:0000006,HP:0003828,HP:0000356,HP:0000365,HP...</td>\n",
       "      <td>HP:0000006,HP:0003828,HP:0000356,HP:0000365,HP...</td>\n",
       "      <td></td>\n",
       "      <td>-</td>\n",
       "      <td>0.0</td>\n",
       "    </tr>\n",
       "    <tr>\n",
       "      <th>2</th>\n",
       "      <td>10066029</td>\n",
       "      <td>Nevoid basal cell carcinoma syndrome (NBCCS) i...</td>\n",
       "      <td>basal cell carcinoma (HP:0002671);autosomal do...</td>\n",
       "      <td>HP:0002671,HP:0000006,HP:0003828,HP:0002671,HP...</td>\n",
       "      <td>HP:0002671,HP:0000006,HP:0003828,HP:0010603,HP...</td>\n",
       "      <td></td>\n",
       "      <td>-</td>\n",
       "      <td>0.0</td>\n",
       "    </tr>\n",
       "    <tr>\n",
       "      <th>3</th>\n",
       "      <td>10196695</td>\n",
       "      <td>Angelman syndrome (AS) is a neurodevelopmental...</td>\n",
       "      <td>neurodevelopmental disorder (HP:0000707);conti...</td>\n",
       "      <td>HP:0000707,HP:0001466</td>\n",
       "      <td>HP:0000707,HP:0001466</td>\n",
       "      <td>HP:0012759</td>\n",
       "      <td>HP:0012759</td>\n",
       "      <td>0.0</td>\n",
       "    </tr>\n",
       "    <tr>\n",
       "      <th>4</th>\n",
       "      <td>10417280</td>\n",
       "      <td>Prader-Willi syndrome (PWS) and Angelman syndr...</td>\n",
       "      <td>neurobehavioral disorders (HP:0000708);de novo...</td>\n",
       "      <td>HP:0000708,HP:0003745</td>\n",
       "      <td>HP:0000708,HP:0003745</td>\n",
       "      <td>HP:0000708</td>\n",
       "      <td>HP:0000708</td>\n",
       "      <td>0.5</td>\n",
       "    </tr>\n",
       "  </tbody>\n",
       "</table>\n",
       "</div>"
      ],
      "text/plain": [
       "   file_name                                   clinical_summary  \\\n",
       "0    1003450  A syndrome of brachydactyly (absence of some m...   \n",
       "1   10051003  Townes-Brocks syndrome (TBS) is an autosomal d...   \n",
       "2   10066029  Nevoid basal cell carcinoma syndrome (NBCCS) i...   \n",
       "3   10196695  Angelman syndrome (AS) is a neurodevelopmental...   \n",
       "4   10417280  Prader-Willi syndrome (PWS) and Angelman syndr...   \n",
       "\n",
       "                                           hpo_terms  \\\n",
       "0  brachydactyly (HP:0001156);absence of some mid...   \n",
       "1  autosomal dominant disorder (HP:0000006);varia...   \n",
       "2  basal cell carcinoma (HP:0002671);autosomal do...   \n",
       "3  neurodevelopmental disorder (HP:0000707);conti...   \n",
       "4  neurobehavioral disorders (HP:0000708);de novo...   \n",
       "\n",
       "                                             hpo_ids  \\\n",
       "0  HP:0001156,HP:0009881,HP:0001798,HP:0001792,HP...   \n",
       "1  HP:0000006,HP:0003828,HP:0000356,HP:0000365,HP...   \n",
       "2  HP:0002671,HP:0000006,HP:0003828,HP:0002671,HP...   \n",
       "3                              HP:0000707,HP:0001466   \n",
       "4                              HP:0000708,HP:0003745   \n",
       "\n",
       "                                  normalized_hpo_ids  \\\n",
       "0  HP:0001156,HP:0009881,HP:0001798,HP:0001792,HP...   \n",
       "1  HP:0000006,HP:0003828,HP:0000356,HP:0000365,HP...   \n",
       "2  HP:0002671,HP:0000006,HP:0003828,HP:0010603,HP...   \n",
       "3                              HP:0000707,HP:0001466   \n",
       "4                              HP:0000708,HP:0003745   \n",
       "\n",
       "                                   phenobert_hpo_ids  \\\n",
       "0  HP:0006167,HP:0001798,HP:0001363,HP:0001385,HP...   \n",
       "1                                                      \n",
       "2                                                      \n",
       "3                                         HP:0012759   \n",
       "4                                         HP:0000708   \n",
       "\n",
       "                        normalized_phenobert_hpo_ids  phenobert_accuracy  \n",
       "0  HP:0006167,HP:0001798,HP:0001363,HP:0001385,HP...                 0.6  \n",
       "1                                                  -                 0.0  \n",
       "2                                                  -                 0.0  \n",
       "3                                         HP:0012759                 0.0  \n",
       "4                                         HP:0000708                 0.5  "
      ]
     },
     "execution_count": 32,
     "metadata": {},
     "output_type": "execute_result"
    }
   ],
   "source": [
    "GSC_database.head()"
   ]
  },
  {
   "cell_type": "code",
   "execution_count": 41,
   "id": "05c9dba5-213f-405d-a093-9780cb04343b",
   "metadata": {},
   "outputs": [
    {
     "data": {
      "text/plain": [
       "'brachydactyly (HP:0001156);absence of some middle or distal phalanges (HP:0009881);aplastic or hypoplastic nails (HP:0001798);hypoplastic nails (HP:0001792);symphalangism (HP:0100264);ankylois of proximal interphalangeal joints (HP:0008090);synostosis of some carpal and tarsal bones (HP:0009702);craniosynostosis (HP:0001363);dysplastic hip joints (HP:0001385);autosomal dominant trait (HP:0000006)'"
      ]
     },
     "execution_count": 41,
     "metadata": {},
     "output_type": "execute_result"
    }
   ],
   "source": [
    "GSC_database.hpo_terms[0]"
   ]
  },
  {
   "cell_type": "code",
   "execution_count": 40,
   "id": "a5e71e19-cbe6-407b-a942-842420e56216",
   "metadata": {},
   "outputs": [
    {
     "data": {
      "image/png": "[encoded data removed]",
      "text/plain": [
       "<Figure size 720x432 with 1 Axes>"
      ]
     },
     "metadata": {
      "needs_background": "light"
     },
     "output_type": "display_data"
    },
    {
     "name": "stdout",
     "output_type": "stream",
     "text": [
      "=== PhenoBERT Recall 統計資訊 ===\n",
      "總樣本數: 8174\n",
      "平均值: 0.9833\n",
      "中位數: 1.0000\n",
      "標準差: 0.0453\n",
      "最小值: 0.0000\n",
      "最大值: 1.0000\n",
      "\n",
      "=== 各分數區間統計 ===\n",
      "0.0-0.1:    6 樣本 (  0.1%)\n",
      "0.1-0.2:    0 樣本 (  0.0%)\n",
      "0.2-0.3:    0 樣本 (  0.0%)\n",
      "0.3-0.4:    0 樣本 (  0.0%)\n",
      "0.4-0.5:    0 樣本 (  0.0%)\n",
      "0.5-0.6:    4 樣本 (  0.0%)\n",
      "0.6-0.7:    9 樣本 (  0.1%)\n",
      "0.7-0.8:   25 樣本 (  0.3%)\n",
      "0.8-0.9:  250 樣本 (  3.1%)\n",
      "0.9-1.0: 7880 樣本 ( 96.4%)\n"
     ]
    }
   ],
   "source": [
    "plot_phenobert_accuracy_distribution(phenopacket, 'pheno_tagger_recall')"
   ]
  },
  {
   "cell_type": "code",
   "execution_count": 30,
   "id": "d8950b2c-7681-4042-aed2-79be978d04dd",
   "metadata": {},
   "outputs": [
    {
     "data": {
      "image/png": "[encoded data removed]",
      "text/plain": [
       "<Figure size 720x432 with 1 Axes>"
      ]
     },
     "metadata": {
      "needs_background": "light"
     },
     "output_type": "display_data"
    },
    {
     "name": "stdout",
     "output_type": "stream",
     "text": [
      "=== PhenoBERT Accuracy 統計資訊 ===\n",
      "總樣本數: 228\n",
      "平均值: 0.5217\n",
      "中位數: 0.5000\n",
      "標準差: 0.2689\n",
      "最小值: 0.0000\n",
      "最大值: 1.0000\n",
      "\n",
      "=== 各分數區間統計 ===\n",
      "0.0-0.1:   22 樣本 (  9.6%)\n",
      "0.1-0.2:    4 樣本 (  1.8%)\n",
      "0.2-0.3:   21 樣本 (  9.2%)\n",
      "0.3-0.4:   16 樣本 (  7.0%)\n",
      "0.4-0.5:   27 樣本 ( 11.8%)\n",
      "0.5-0.6:   55 樣本 ( 24.1%)\n",
      "0.6-0.7:   25 樣本 ( 11.0%)\n",
      "0.7-0.8:   24 樣本 ( 10.5%)\n",
      "0.8-0.9:   12 樣本 (  5.3%)\n",
      "0.9-1.0:   22 樣本 (  9.6%)\n"
     ]
    }
   ],
   "source": [
    "plot_phenobert_accuracy_distribution(GSC_database_merged, column_name='pheno_tagger_accuracy')"
   ]
  },
  {
   "cell_type": "code",
   "execution_count": null,
   "id": "0830ffc2-4146-4afc-aa59-c33bb2441095",
   "metadata": {},
   "outputs": [],
   "source": []
  }
 ],
 "metadata": {
  "kernelspec": {
   "display_name": "Python 3 (ipykernel)",
   "language": "python",
   "name": "python3"
  },
  "language_info": {
   "codemirror_mode": {
    "name": "ipython",
    "version": 3
   },
   "file_extension": ".py",
   "mimetype": "text/x-python",
   "name": "python",
   "nbconvert_exporter": "python",
   "pygments_lexer": "ipython3",
   "version": "3.7.16"
  }
 },
 "nbformat": 4,
 "nbformat_minor": 5
}
