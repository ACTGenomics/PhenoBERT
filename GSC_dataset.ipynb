{
 "cells": [
  {
   "cell_type": "code",
   "execution_count": 4,
   "id": "22f67c55-194d-4651-aa14-b440c5f3e536",
   "metadata": {},
   "outputs": [],
   "source": [
    "import pandas as pd\n",
    "import os\n",
    "import re\n",
    "\n",
    "def process_corpus_data(corpus_folder, ann_folder):\n",
    "    # 處理 corpus 資料夾\n",
    "    corpus_data = []\n",
    "    for file_name in os.listdir(corpus_folder):\n",
    "        # 只處理純數字檔名且為檔案\n",
    "        if file_name.isdigit() and os.path.isfile(os.path.join(corpus_folder, file_name)):\n",
    "            with open(os.path.join(corpus_folder, file_name), 'r', encoding='utf-8') as f:\n",
    "                content = f.read().strip()\n",
    "                corpus_data.append({\n",
    "                    'file_name': file_name,\n",
    "                    'clinical_summary': content\n",
    "                })\n",
    "    \n",
    "    # 處理 ann 資料夾\n",
    "    ann_data = []\n",
    "    for file_name in os.listdir(ann_folder):\n",
    "        # 只處理純數字檔名且為檔案\n",
    "        if file_name.isdigit() and os.path.isfile(os.path.join(ann_folder, file_name)):\n",
    "            with open(os.path.join(ann_folder, file_name), 'r', encoding='utf-8') as f:\n",
    "                content = f.read().strip()\n",
    "                \n",
    "                # 提取HPO條目\n",
    "                hpo_pattern = r'\\[.*?\\]\\s+(HP_\\d+)\\s+\\|\\s+(.+)'\n",
    "                matches = re.findall(hpo_pattern, content)\n",
    "                \n",
    "                if matches:\n",
    "                    hpo_terms = []\n",
    "                    hpo_ids = []\n",
    "                    \n",
    "                    for hpo_id, term in matches:\n",
    "                        hpo_terms.append(f\"{term} ({hpo_id.replace('_', ':')})\")\n",
    "                        hpo_ids.append(hpo_id.replace('_', ':'))\n",
    "                    \n",
    "                    ann_data.append({\n",
    "                        'file_name': file_name,\n",
    "                        'hpo_terms': ';'.join(hpo_terms),\n",
    "                        'hpo_ids': ','.join(hpo_ids)\n",
    "                    })\n",
    "    \n",
    "    # 建立DataFrame並合併\n",
    "    df_corpus = pd.DataFrame(corpus_data)\n",
    "    df_ann = pd.DataFrame(ann_data)\n",
    "    \n",
    "    # 合併兩個DataFrame\n",
    "    result_df = pd.merge(df_corpus, df_ann, on='file_name', how='outer')\n",
    "    \n",
    "    return result_df\n",
    "\n",
    "# 使用方法\n",
    "# df = process_corpus_data('corpus資料夾路徑', 'ann資料夾路徑')\n",
    "# print(df.head())\n",
    "# df.to_csv('output.csv', index=False)"
   ]
  },
  {
   "cell_type": "code",
   "execution_count": 5,
   "id": "ca2e9424-166c-43d3-9a5a-1d043f7a8cdf",
   "metadata": {},
   "outputs": [],
   "source": [
    "corpus_path = './phenobert/data/GSC/corpus/'\n",
    "anno_path = './phenobert/data/GSC/ann/'\n",
    "df = process_corpus_data(corpus_path, anno_path)"
   ]
  },
  {
   "cell_type": "code",
   "execution_count": 1,
   "id": "6962022a-ff07-4643-a979-49276c069ec6",
   "metadata": {},
   "outputs": [
    {
     "ename": "NameError",
     "evalue": "name 'df' is not defined",
     "output_type": "error",
     "traceback": [
      "\u001b[0;31m----------------------------------------------------------------------\u001b[0m",
      "\u001b[0;31mNameError\u001b[0m                            Traceback (most recent call last)",
      "\u001b[0;32m<ipython-input-1-f74184096acf>\u001b[0m in \u001b[0;36m<module>\u001b[0;34m\u001b[0m\n\u001b[0;32m----> 1\u001b[0;31m \u001b[0mdf\u001b[0m\u001b[0;34m.\u001b[0m\u001b[0mto_excel\u001b[0m\u001b[0;34m(\u001b[0m\u001b[0;34m'./reference/GSC_database.xlsx'\u001b[0m\u001b[0;34m,\u001b[0m \u001b[0mindex\u001b[0m\u001b[0;34m=\u001b[0m\u001b[0;32mFalse\u001b[0m\u001b[0;34m,\u001b[0m\u001b[0mengine\u001b[0m\u001b[0;34m=\u001b[0m\u001b[0;34m'openpyxl'\u001b[0m\u001b[0;34m)\u001b[0m\u001b[0;34m\u001b[0m\u001b[0;34m\u001b[0m\u001b[0m\n\u001b[0m",
      "\u001b[0;31mNameError\u001b[0m: name 'df' is not defined"
     ]
    }
   ],
   "source": [
    "df.to_excel('./reference/GSC_database.xlsx', index=False)"
   ]
  },
  {
   "cell_type": "code",
   "execution_count": null,
   "id": "eb24f40c-a3cb-4fbc-b4b1-7620a22065ef",
   "metadata": {},
   "outputs": [],
   "source": []
  }
 ],
 "metadata": {
  "kernelspec": {
   "display_name": "Python 3",
   "language": "python",
   "name": "python3"
  },
  "language_info": {
   "codemirror_mode": {
    "name": "ipython",
    "version": 3
   },
   "file_extension": ".py",
   "mimetype": "text/x-python",
   "name": "python",
   "nbconvert_exporter": "python",
   "pygments_lexer": "ipython3",
   "version": "3.6.13"
  }
 },
 "nbformat": 4,
 "nbformat_minor": 5
}
